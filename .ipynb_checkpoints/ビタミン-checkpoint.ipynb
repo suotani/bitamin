{
 "cells": [
  {
   "cell_type": "markdown",
   "metadata": {},
   "source": [
    "## ビタミンとは\n",
    "ビタミン類は生命維持に不可欠な有機化合物であるが、生体ではほとんど合成されない。そのため食物を通して摂取する。\n",
    "腸内細菌からも供給されるビタミンもある。体を車に例えると、3代栄養素（炭水化物、脂質、たんぱく質）がガソリンに対応し、ビタミンは潤滑油のような役割を果たす。そのほかに電解質（鉱質・微量元素）も体にはなくてはならない。\n",
    "\n",
    "ビタミンにはビタミンA,D,E,K,B1,B2,B6,B12,C,ニコチン酸,葉酸,パントテン酸,ビオチンがある。以下に人の体内にどれくらいビタミン類が存在しているのかを示す。"
   ]
  },
  {
   "cell_type": "code",
   "execution_count": 11,
   "metadata": {},
   "outputs": [
    {
     "data": {
      "image/png": "[encoded data removed]",
      "text/plain": [
       "<matplotlib.figure.Figure at 0x1f8209b7780>"
      ]
     },
     "metadata": {},
     "output_type": "display_data"
    }
   ],
   "source": [
    "import numpy as np\n",
    "import matplotlib.pyplot as plt\n",
    "\n",
    "# 単位はミリグラム\n",
    "bitamins = {\n",
    "    \"ビタミンA\": 1.5,\n",
    "    \"ビタミンD\": 0.05,\n",
    "    \"ビタミンE\": 15,\n",
    "    \"ビタミンK\": 1,\n",
    "    \"ビタミンB1\": 2,\n",
    "    \"ビタミンB2\": 2,\n",
    "    \"ビタミンB6\": 2,\n",
    "    \"ビタミンB12\": 0.001,\n",
    "    \"ビタミンC\": 75,\n",
    "    \"ニコチン酸\": 20,\n",
    "    \"葉酸\": 0.1,\n",
    "    \"パントテン酸\": 10,\n",
    "    \"ビオチン\": 2\n",
    "}\n",
    "height = np.array(list(bitamins.values()))\n",
    "label = np.array(list(bitamins.keys()))\n",
    "left = np.array([i for i in range(len(label))])\n",
    "plt.bar(left, height, tick_label=label, align=\"center\")\n",
    "plt.xticks(rotation=70)\n",
    "plt.show()"
   ]
  },
  {
   "cell_type": "markdown",
   "metadata": {
    "collapsed": true
   },
   "source": [
    "これらのうち、ビタミンA,D,E,Kは脂溶性、その他は水溶性となっている。\n",
    "\n",
    "脂溶性のビタミンは、胆汁酸の作用により、脂肪酸やモノグリセリドなどと共にミセルを形成して長管から吸収される。また、水溶性のビタミンは過剰に摂取しても尿から排出されるが、脂溶性のビタミンは体に吸収されやすく、過剰摂取すると障害を起こす場合がある。\n",
    "\n",
    "以下、個別のビタミンについて詳しくまとめていく。\n",
    "\n",
    "参考：\n",
    "\n",
    "（水溶性ビタミン）https://www.mhlw.go.jp/file/05-Shingikai-10901000-Kenkoukyoku-Soumuka/0000067134.pdf\n",
    "\n",
    "（脂溶性ビタミン）https://www.mhlw.go.jp/file/05-Shingikai-10901000-Kenkoukyoku-Soumuka/0000042635.pdf\n",
    "\n"
   ]
  },
  {
   "cell_type": "markdown",
   "metadata": {},
   "source": [
    "## ビタミンA\n",
    "#### 概要\n",
    "ビタミンAは脂溶性のビタミンで光感受性作用がある。\n",
    "\n",
    "また、末端構造の種類によってレチナール(アルコール）、レチノール（アルデヒド）、レチノイン酸（カルボン酸）に分類される。\n",
    "\n",
    "上皮の成長に不可欠で、粘膜における感染防御機能を改善する。視覚器に必須で骨格の発達にも関与している。ビタミンAが不足するとどうなるかは後述する。\n",
    "\n",
    "吸収したビタミンAは肝臓に蓄積される。\n",
    "\n",
    "ビタミンAは主に動物性食品（レバー、バター、牛乳、卵、魚油など）からはレチニル脂肪酸エステルとして、植物性食品（キャベツ、ホウレンソウ、ニンジンなど）からはプロビタミンAカロチノイドとして取り入れられる。\n",
    "\n",
    "レチニル脂肪酸エステルは小腸の中で酵素の働きによりレチノールとして吸収される。\n",
    "\n",
    "カロチノイドは中央開裂によって１または2分子のレチナールを生成する。例えばβ‐カロテンは2分子のレチナールを生成する。\n",
    "\n",
    "<img src=\"cato-reti.png\">\n",
    "\n",
    "1日の目安摂取量は成人男性で0.8~0.9mgと推定されている。\n",
    "\n",
    "１～５歳の子供であれば0.2mg以上\n",
    "\n",
    "\n",
    "#### 欠乏\n",
    "典型的な欠乏症として、乳幼児では、角膜乾燥症から失明に至ることもあり、成人では夜盲症（夜間や暗所で視覚が低下する）を発症する。そのほか、成長阻害、骨・神経系の発達抑制も見られる。上皮細胞の分化・増殖障害、皮膚の乾燥、肥厚、角質化、免疫の低下また、粘膜の乾燥から感染症にかかりやすくなる。\n",
    "\n",
    "ただし、肝臓内の最低貯蓄量を下回らない限りはすぐに欠乏症の症状は現れない。（血液中のレチノール濃度が落ちない）\n",
    "\n",
    "#### 過剰摂取\n",
    "サプリメントやレバーなどを大量に摂取すると健康障害が起きることがある。\n",
    "\n",
    "主な症状は頭痛、脱毛、筋肉痛、皮膚の落屑（うろこ状に皮膚が落ちる）\n",
    "\n",
    "カロチノイド（植物性食物から得られるプロビタミンＡ）に関しては、体内でビタミンＡへの変換量を調整されているので、例えばニンジンを大量に摂取しても過剰摂取の症状が出ることはない。\n",
    "\n",
    "ビタミンＡに変換されなかったカロチノイドの一部は体内にそのまま蓄積するが、抗酸化作用、免疫賦活作用などがある。その他各種カロテノイド摂取量とガン（主に肺がん）の発症率は有意な負の関連があった。一方でβカロテンだけを大量に摂取しても肺がんの予防には効果を発揮しないか有害になるというデータもある。\n"
   ]
  },
  {
   "cell_type": "markdown",
   "metadata": {
    "collapsed": true
   },
   "source": [
    "## ビタミンＤ\n",
    "#### 概要\n",
    "ビタミンＤは、主にキノコ類に含まれる$D_2$（エルゴカルシフェロール）と魚肉及び魚類肝臓に含まれる$D_3$（コレカルシフェロール）に分類される。\n",
    "\n",
    "ビタミンＤはキノコ類、魚類から摂取するほか、プロビタミンＤがコレステロール生成過程の中間体として皮膚に存在し、紫外線によりプレビタミンD3となり、体温の熱異性化によってビタミンD3が生成される。\n",
    "\n",
    "ビタミンＤは標的細胞の核内に存在する受容体に結合することで、長官や腎臓でカルシウムとリンの吸収を促進し骨の形成と成長を促すホルモンのような働きをする。\n",
    "\n",
    "#### 欠乏\n",
    "ビタミンＤが欠乏すると、小腸、腎臓でのカルシウム吸収量が減少し、その結果として小児ではくる病(骨の石灰化障害により骨変形などを引き起こす)、成人では骨軟化病（骨盤変形、疼痛が主症状）のリスクが高まる。欠乏まで行かなくても、ビタミンＤ不足の状態が長く続くと骨粗鬆症骨折のリスクが高まる。\n",
    "\n",
    "また、低カルシウム血症（カルシウム濃度が低い状態）が長く続くと、続発性服甲状腺機能亢進症を発症する。ビタミンＤはカルシウム濃度を調整する副甲状腺とも関係が深い。\n",
    "\n",
    "#### 過剰摂取\n",
    "紫外線による皮膚でのビタミンＤ産生は調節されており、必要以上のビタミン D は産生されない。そのため紫外線によるビタミンＤの過剰障害は起こらない。食物からの大量ビタミンＤを摂取続けた場合は高カルシウム血症、腎障害、軟組織の石灰化障害を引き起こす。高カルシウム血症の状態では、転移性石灰沈着すなわり、腎尿細管上皮や肺細胞、胃粘膜などに石灰沈着（通常カルシウム塩が存在しない部位にカルシウム沈着をきたす病態）が見られる。\n",
    "\n"
   ]
  },
  {
   "cell_type": "markdown",
   "metadata": {},
   "source": [
    "## ビタミンE\n",
    "#### 概要\n",
    "脂溶性のビタミンで、穀物、植物油、葉緑野菜などに含まれる。\n",
    "\n",
    "4種類のトコフェロールと4種類のトコトリエノールに分類される。それぞれメチル基の数により$\\alpha-, \\beta-, \\gamma-, \\delta-$が付く\n"
   ]
  },
  {
   "cell_type": "code",
   "execution_count": 13,
   "metadata": {},
   "outputs": [
    {
     "name": "stdout",
     "output_type": "stream",
     "text": [
      "α-トコフェロール\n",
      "β-トコフェロール\n",
      "γ-トコフェロール\n",
      "δ-トコフェロール\n",
      "α-トコトリエノール\n",
      "β-トコトリエノール\n",
      "γ-トコトリエノール\n",
      "δ-トコトリエノール\n"
     ]
    }
   ],
   "source": [
    "import itertools\n",
    "p = itertools.product([\"トコフェロール\",\"トコトリエノール\"],[\"α-\",\"β-\",\"γ-\",\"δ-\"])\n",
    "for a in p:\n",
    "    print(a[1]+a[0])"
   ]
  },
  {
   "cell_type": "markdown",
   "metadata": {},
   "source": [
    "血液、組織中に存在するビタミンＥのうち大部分がα-トコフェロールとなっている。\n",
    "\n",
    "ビタミンＥの主な働きは、生体膜を構成する不飽和脂肪酸などを酸化から守ること。\n",
    "\n",
    "食物から得たビタミンＥはビタミンＡと同様に脂肪とミセルを形成し腸管から吸収される。吸収された後は肝臓で貯蔵される。\n",
    "\n",
    "次に欠乏、過剰摂取した場合にどのような症状が起きるか示すが、通常食物の摂取で欠乏・過剰摂取が起きることはない。\n",
    "#### 欠乏\n",
    "不妊、脳軟化症、肝臓壊死、腎障害、溶血性貧血、筋ジストロフィーなどの症状を呈する\n",
    "#### 過剰摂取\n",
    "α─トコフェロールを低出生体重児に補充投与した場合、出血傾向が上昇することが一部示されているが成人に対しては有意な差は見られない。\n"
   ]
  },
  {
   "cell_type": "markdown",
   "metadata": {},
   "source": [
    "### ビタミンK"
   ]
  }
 ],
 "metadata": {
  "kernelspec": {
   "display_name": "Python 3",
   "language": "python",
   "name": "python3"
  },
  "language_info": {
   "codemirror_mode": {
    "name": "ipython",
    "version": 3
   },
   "file_extension": ".py",
   "mimetype": "text/x-python",
   "name": "python",
   "nbconvert_exporter": "python",
   "pygments_lexer": "ipython3",
   "version": "3.6.1"
  }
 },
 "nbformat": 4,
 "nbformat_minor": 2
}
